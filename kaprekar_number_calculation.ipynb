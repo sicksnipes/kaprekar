{
 "cells": [
  {
   "cell_type": "markdown",
   "id": "4223ba70-ab33-4ffa-b16f-4481160717cc",
   "metadata": {},
   "source": [
    "# Kaprekar Number Calculation\n",
    "Author: Leon Gjinovci"
   ]
  },
  {
   "cell_type": "code",
   "execution_count": null,
   "id": "c4c120f4-9531-4aeb-98a1-921a8c0eebf9",
   "metadata": {},
   "outputs": [
    {
     "name": "stdout",
     "output_type": "stream",
     "text": [
      "Kaprekar numbers between 1 and 50000000:\n",
      "[9, 10, 45, 55, 297, 703, 2223, 2728, 4950, 5050, 7272, 7777, 17344, 22222, 77778, 82656, 142857, 148149, 181819, 187110, 208495, 318682, 329967, 351352, 356643, 390313, 461539, 466830, 499500, 500500, 533170, 538461, 609687, 643357, 648648, 670033, 681318, 791505, 812890, 818181, 851851, 857143, 4444444, 4927941, 5072059, 5555556, 13641364, 16590564, 19273023, 19773073, 24752475, 25252525, 30884184, 36363636, 38883889, 44363341, 44525548, 49995000]\n",
      "Total count: 58\n"
     ]
    }
   ],
   "source": [
    "from functools import lru_cache\n",
    "\n",
    "\n",
    "@lru_cache\n",
    "def is_kaprekar(n):\n",
    "    \"\"\"\n",
    "    Check if a number is a Kaprekar number.\n",
    "    \n",
    "    A Kaprekar number is a positive integer where the square of the number \n",
    "    can be split into two parts that add up to the original number.\n",
    "    \"\"\"\n",
    "    if n <= 0:\n",
    "        return False\n",
    "    \n",
    "    square = n * n\n",
    "    square_str = str(square)\n",
    "    square_digits = len(square_str)\n",
    "    \n",
    "    # all possible ways to split the square\n",
    "    for i in range(1, square_digits):\n",
    "        # Skip splits that would have a leading zero in the right part\n",
    "        if square_str[i:].startswith('0') and len(square_str[i:]) > 1:\n",
    "            continue\n",
    "        \n",
    "        left = int(square_str[:i]) if square_str[:i] else 0\n",
    "        right = int(square_str[i:]) if square_str[i:] else 0\n",
    "        \n",
    "        if left + right == n:\n",
    "            return True\n",
    "    \n",
    "    return False\n",
    "\n",
    "def find_kaprekar_numbers(start, end):\n",
    "    \"\"\"Find all Kaprekar numbers in the given range.\"\"\"\n",
    "    kaprekar_nums = []\n",
    "    for num in range(start, end + 1):\n",
    "        if is_kaprekar(num):\n",
    "            kaprekar_nums.append(num)\n",
    "    return kaprekar_nums\n",
    "\n",
    "# find Kaprekar numbers in range:\n",
    "start = 1\n",
    "end = 50_000_000\n",
    "kaprekar_numbers = find_kaprekar_numbers(start, end)\n",
    "\n",
    "# print results\n",
    "print(f\"Kaprekar numbers between {start} and {end}:\")\n",
    "print(kaprekar_numbers)\n",
    "print(f\"Total count: {len(kaprekar_numbers)}\")"
   ]
  },
  {
   "cell_type": "code",
   "execution_count": null,
   "id": "a521e555-760b-4930-a625-ed04c41da3e2",
   "metadata": {},
   "outputs": [],
   "source": []
  }
 ],
 "metadata": {
  "kernelspec": {
   "display_name": "Python 3 (ipykernel)",
   "language": "python",
   "name": "python3"
  },
  "language_info": {
   "codemirror_mode": {
    "name": "ipython",
    "version": 3
   },
   "file_extension": ".py",
   "mimetype": "text/x-python",
   "name": "python",
   "nbconvert_exporter": "python",
   "pygments_lexer": "ipython3",
   "version": "3.12.9"
  }
 },
 "nbformat": 4,
 "nbformat_minor": 5
}
